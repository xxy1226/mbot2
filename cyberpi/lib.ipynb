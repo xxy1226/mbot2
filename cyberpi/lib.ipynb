{
 "cells": [
  {
   "cell_type": "markdown",
   "metadata": {},
   "source": [
    "# cyberpi Library"
   ]
  },
  {
   "cell_type": "markdown",
   "metadata": {},
   "source": [
    "# event Library"
   ]
  },
  {
   "cell_type": "code",
   "execution_count": 1,
   "metadata": {},
   "outputs": [
    {
     "ename": "ModuleNotFoundError",
     "evalue": "No module named 'event'",
     "output_type": "error",
     "traceback": [
      "\u001b[1;31m---------------------------------------------------------------------------\u001b[0m",
      "\u001b[1;31mModuleNotFoundError\u001b[0m                       Traceback (most recent call last)",
      "\u001b[1;32m<ipython-input-1-b03b7f665247>\u001b[0m in \u001b[0;36m<module>\u001b[1;34m\u001b[0m\n\u001b[1;32m----> 1\u001b[1;33m \u001b[1;32mimport\u001b[0m \u001b[0mevent\u001b[0m\u001b[1;33m\u001b[0m\u001b[1;33m\u001b[0m\u001b[0m\n\u001b[0m",
      "\u001b[1;31mModuleNotFoundError\u001b[0m: No module named 'event'"
     ]
    }
   ],
   "source": [
    "import event"
   ]
  },
  {
   "cell_type": "markdown",
   "metadata": {},
   "source": [
    "## Events blocks"
   ]
  },
  {
   "cell_type": "markdown",
   "metadata": {},
   "source": [
    "when CyberPi <span style=\"color:red\">starts up</span>"
   ]
  },
  {
   "cell_type": "code",
   "execution_count": null,
   "metadata": {},
   "outputs": [],
   "source": [
    "@event.start\n",
    "def start():\n",
    "    \"\"\"\n",
    "    This function is called when the Cyberpi starts.\n",
    "    \"\"\"\n",
    "    pass"
   ]
  },
  {
   "cell_type": "markdown",
   "metadata": {},
   "source": [
    "when joystick <span style=\"color:red\">pulled up, down, left, right, or middle pressed</span>"
   ]
  },
  {
   "cell_type": "code",
   "execution_count": null,
   "metadata": {},
   "outputs": [],
   "source": [
    "@event.is_press('up') # up down left right middle\n",
    "def is_joy_press():\n",
    "  \"\"\"\n",
    "  This function is called when the joystick is pulled up\n",
    "  \"\"\"\n",
    "  pass"
   ]
  },
  {
   "cell_type": "markdown",
   "metadata": {},
   "source": [
    "when button A / B pressed"
   ]
  },
  {
   "cell_type": "code",
   "execution_count": null,
   "metadata": {},
   "outputs": [],
   "source": [
    "@event.is_press('a') # a b\n",
    "def is_btn_press():\n",
    "  \"\"\"\n",
    "  This function is called when the button a / b is pressed\n",
    "  \"\"\"\n",
    "  pass"
   ]
  },
  {
   "cell_type": "markdown",
   "metadata": {},
   "source": [
    "when CyberPi <span style=\"color:red\">tilted left, right, forward, backward, screen faces up, down</span>"
   ]
  },
  {
   "cell_type": "code",
   "execution_count": null,
   "metadata": {},
   "outputs": [],
   "source": [
    "@event.is_tiltleft\n",
    "def on_is_tiltleft():\n",
    "  \"\"\"\n",
    "  This function is called when the CyberPi is tilt to the left\n",
    "  \"\"\"\n",
    "  pass\n",
    "\n",
    "@event.is_tiltright\n",
    "def on_is_tiltright():\n",
    "  \"\"\"\n",
    "  This function is called when the CyberPi is tilt to the right\n",
    "  \"\"\"\n",
    "  pass\n",
    "\n",
    "@event.is_tiltforward\n",
    "def on_is_tiltforward():\n",
    "  \"\"\"\n",
    "  This function is called when the CyberPi is tilt forward\n",
    "  \"\"\"\n",
    "  pass\n",
    "\n",
    "@event.is_tiltbackward\n",
    "def on_is_tiltbackward():\n",
    "  \"\"\"\n",
    "  This function is called when the CyberPi is tilt backward\n",
    "  \"\"\"\n",
    "  pass\n",
    "\n",
    "@event.is_faceup\n",
    "def on_is_faceup():\n",
    "  \"\"\"\n",
    "  This function is called when the CyberPi is face up\n",
    "  \"\"\"\n",
    "  pass\n",
    "\n",
    "@event.is_facedown\n",
    "def on_is_facedown():\n",
    "  \"\"\"\n",
    "  This function is called when the CyberPi is face down\n",
    "  \"\"\"\n",
    "  pass"
   ]
  },
  {
   "cell_type": "markdown",
   "metadata": {},
   "source": [
    "when <span style=\"color:red\">wave left, right, up, down, rotate clockwise, counterclockwise, freefall, shaken</span> detected"
   ]
  },
  {
   "cell_type": "code",
   "execution_count": null,
   "metadata": {},
   "outputs": [],
   "source": [
    "@event.is_waveleft\n",
    "def on_is_waveleft():\n",
    "  \"\"\"\n",
    "  This function is called when the CyberPi is waved to the left.\n",
    "  \"\"\"\n",
    "  pass\n",
    "\n",
    "@event.is_waveright\n",
    "def on_is_waveright():\n",
    "  \"\"\"\n",
    "  This function is called when the CyberPi is waved to the right.\n",
    "  \"\"\"\n",
    "  pass\n",
    "\n",
    "@event.is_waveup\n",
    "def on_is_waveup():\n",
    "  \"\"\"\n",
    "  This function is called when the CyberPi is waved upwards.\n",
    "  \"\"\"\n",
    "  pass\n",
    "\n",
    "@event.is_wavedown\n",
    "def on_is_wavedown():\n",
    "  \"\"\"\n",
    "  This function is called when the CyberPi is waved downwards.\n",
    "  \"\"\"\n",
    "  pass\n",
    "\n",
    "@event.is_clockwise\n",
    "def on_is_clockwise():\n",
    "  \"\"\"\n",
    "  This function is called when the CyberPi is rotated in a clockwise direction.\n",
    "  \"\"\"\n",
    "  pass\n",
    "\n",
    "@event.is_anticlockwise\n",
    "def on_is_anticlockwise():\n",
    "  \"\"\"\n",
    "  This function is called when the CyberPi is rotated in an counterclockwise direction.\n",
    "  \"\"\"\n",
    "  pass\n",
    "\n",
    "@event.is_freefall\n",
    "def on_is_freefall():\n",
    "  \"\"\"\n",
    "  This function is called when the CyberPi is in freefall.\n",
    "  \"\"\"\n",
    "  pass\n",
    "\n",
    "@event.is_shake\n",
    "def on_is_shake():\n",
    "  \"\"\"\n",
    "  This function is called when the CyberPi is shaken.\n",
    "  \"\"\"\n",
    "  pass\n"
   ]
  },
  {
   "cell_type": "markdown",
   "metadata": {},
   "source": [
    "when <span style=\"color:red\">light, sound, shaking strength , timer</span> value <span style=\"color:red\">>, <</span> <span style=\"color:green\">val</span>"
   ]
  },
  {
   "cell_type": "code",
   "execution_count": null,
   "metadata": {},
   "outputs": [],
   "source": [
    "@event.greater_than(50, \"light_sensor\") # light_sensor microphone shake_val timer\n",
    "def on_greater_than():\n",
    "  \"\"\"\n",
    "  This function is called when the value of the sensor is greater than the @event value.\n",
    "  \"\"\"\n",
    "  pass\n",
    "\n",
    "@event.smaller_than(50, \"light_sensor\") # light_sensor microphone shake_val timer\n",
    "def on_less_than():\n",
    "  \"\"\"\n",
    "  This function is called when the value of the sensor is less than the @event value.\n",
    "  \"\"\"\n",
    "  pass\n"
   ]
  }
 ],
 "metadata": {
  "kernelspec": {
   "display_name": "mBot2",
   "language": "python",
   "name": "python3"
  },
  "language_info": {
   "codemirror_mode": {
    "name": "ipython",
    "version": 3
   },
   "file_extension": ".py",
   "mimetype": "text/x-python",
   "name": "python",
   "nbconvert_exporter": "python",
   "pygments_lexer": "ipython3",
   "version": "3.6.13"
  }
 },
 "nbformat": 4,
 "nbformat_minor": 2
}
