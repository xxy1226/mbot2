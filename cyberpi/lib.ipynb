{
 "cells": [
  {
   "cell_type": "markdown",
   "metadata": {},
   "source": [
    "# cyberpi Library"
   ]
  },
  {
   "cell_type": "code",
   "execution_count": null,
   "metadata": {},
   "outputs": [],
   "source": [
    "import cyberpi"
   ]
  },
  {
   "cell_type": "markdown",
   "metadata": {},
   "source": [
    "## CyberPi vars"
   ]
  },
  {
   "cell_type": "markdown",
   "metadata": {},
   "source": [
    "colors:\n",
    "<span style='color:red'>red = r</span>  \n",
    "<span style='color:orange'>orange = o</span>  \n",
    "<span style='color:yellow'>yellow = y</span>  \n",
    "<span style='color:green'>green = g</span>  \n",
    "<span style='color:cyan'>cyan = c</span>  \n",
    "<span style='color:blue'>blue = b</span>  \n",
    "<span style='color:purple'>purple = p</span>  \n",
    "<span style='color:white'>white = w</span>  \n",
    "<span style='color:#555'>black = b</span>  "
   ]
  },
  {
   "cell_type": "code",
   "execution_count": null,
   "metadata": {},
   "outputs": [],
   "source": [
    "# volume(%)\n",
    "cyberpi.audio.get_vol()\n",
    "\n",
    "# audio speed\n",
    "cyberpi.audio.get_tempo()\n",
    "\n",
    "# LED brightness(%)\n",
    "cyberpi.led.get_bri()\n",
    "\n",
    "# shaking strength\n",
    "cyberpi.get_shakeval()\n",
    "\n",
    "# waving direction (degree)\n",
    "cyberpi.get_wave_angle()\n",
    "\n",
    "# tilted forward / backward angle (degree)\n",
    "cyberpi.get_pitch()\n",
    "\n",
    "# tilted left / right angle (degree)\n",
    "cyberpi.get_roll()\n",
    "\n",
    "# ratate clockwise / counterclockwise angle (degree)\n",
    "cyberpi.get_yaw()\n",
    "\n",
    "# motion sensor x/y/z acceleration (m/s^2)\n",
    "cyberpi.get_acc('x')\n",
    "cyberpi.get_acc('y')\n",
    "cyberpi.get_acc('z')\n",
    "\n",
    "# angle speed around x/y/z axis (degree/s)\n",
    "cyberpi.get_gyro('x')\n",
    "cyberpi.get_gyro('y')\n",
    "cyberpi.get_gyro('z')\n",
    "\n",
    "# rotated angle around x/y/z axis (degree)\n",
    "cyberpi.get_rotation('x')\n",
    "cyberpi.get_rotation('y')\n",
    "cyberpi.get_rotation('z')"
   ]
  },
  {
   "cell_type": "markdown",
   "metadata": {},
   "source": [
    "restart CyberPi"
   ]
  },
  {
   "cell_type": "code",
   "execution_count": null,
   "metadata": {},
   "outputs": [],
   "source": [
    "cyberpi.restart()"
   ]
  },
  {
   "cell_type": "markdown",
   "metadata": {},
   "source": [
    "stop <span style=\"color:red\">all, this script, other scripts in sprite</span>"
   ]
  },
  {
   "cell_type": "code",
   "execution_count": null,
   "metadata": {},
   "outputs": [],
   "source": [
    "cyberpi.stop_all()\n",
    "cyberpi.stop_this()\n",
    "cyberpi.stop_other()"
   ]
  },
  {
   "cell_type": "markdown",
   "metadata": {},
   "source": [
    "## Audio"
   ]
  },
  {
   "cell_type": "markdown",
   "metadata": {},
   "source": [
    "play <span style=\"color:red\">hi</span> (until done)"
   ]
  },
  {
   "cell_type": "code",
   "execution_count": null,
   "metadata": {},
   "outputs": [],
   "source": [
    "cyberpi.audio.play('hi')\n",
    "cyberpi.audio.play_until('hi')\n",
    "# hello hi bye yeah wow laugh hum sad sigh annoyed angry surprised yummy curious embarrassed ready sprint sleepy meow\n",
    "# start switch beeps buzzing explosion jump laser level-up low-energy prompt-tone right wrong ring score wake warning\n",
    "# metal-clash shot glass-clink inflator running-water clockwork click current switch wood-hit iron drop bubble wave magic spitfire heartbeat load"
   ]
  },
  {
   "cell_type": "markdown",
   "metadata": {},
   "source": [
    "### recording"
   ]
  },
  {
   "cell_type": "markdown",
   "metadata": {},
   "source": [
    "start / stop recording  \n",
    "play recording (until done)"
   ]
  },
  {
   "cell_type": "code",
   "execution_count": null,
   "metadata": {},
   "outputs": [],
   "source": [
    "cyberpi.audio.record()\n",
    "cyberpi.audio.stop_record()\n",
    "\n",
    "cyberpi.audio.play_record()\n",
    "cyberpi.audio.play_record_until()\n"
   ]
  },
  {
   "cell_type": "markdown",
   "metadata": {},
   "source": [
    "play note 60 for 0.25 beat"
   ]
  },
  {
   "cell_type": "code",
   "execution_count": null,
   "metadata": {},
   "outputs": [],
   "source": [
    "cyberpi.audio.play_music(60, 0.25)"
   ]
  },
  {
   "cell_type": "markdown",
   "metadata": {},
   "source": [
    "play music"
   ]
  },
  {
   "cell_type": "code",
   "execution_count": null,
   "metadata": {},
   "outputs": [],
   "source": [
    "cyberpi.audio.play_music(60, 0.5, type=\"piano\")\n",
    "# 0 - 132\n",
    "# 0.5: half a second\n"
   ]
  },
  {
   "cell_type": "markdown",
   "metadata": {},
   "source": [
    "play <span style=\"color:red\">snare, bass drum, side stick, crash cymbal, open hi-hat, cloased hi-hat, tambourine, hand clap, claves</span>"
   ]
  },
  {
   "cell_type": "code",
   "execution_count": null,
   "metadata": {},
   "outputs": [],
   "source": [
    "cyberpi.audio.play_drum('snare', 0.25)\n",
    "# snare bass-drum side-stick crash-cymbal open-hi-hat closed-hi-hat tambourine hand-clap claves"
   ]
  },
  {
   "cell_type": "markdown",
   "metadata": {},
   "source": [
    "increase audio speed by 10%  \n",
    "set audio speed to 100%"
   ]
  },
  {
   "cell_type": "code",
   "execution_count": null,
   "metadata": {},
   "outputs": [],
   "source": [
    "cyberpi.audio.add_tempo(10)\n",
    "cyberpi.audio.set_tempo(100)"
   ]
  },
  {
   "cell_type": "markdown",
   "metadata": {},
   "source": [
    "increase volume by 10%\n",
    "set volume to 30%"
   ]
  },
  {
   "cell_type": "code",
   "execution_count": null,
   "metadata": {},
   "outputs": [],
   "source": [
    "cyberpi.audio.add_vol(10)\n",
    "cyberpi.audio.set_vol(30)"
   ]
  },
  {
   "cell_type": "markdown",
   "metadata": {},
   "source": [
    "play sound at 700 Hz for (1 second)"
   ]
  },
  {
   "cell_type": "code",
   "execution_count": null,
   "metadata": {},
   "outputs": [],
   "source": [
    "cyberpi.audio.play_tone(700)\n",
    "cyberpi.audio.play_tone(700, 1)\n",
    "# 20 - 5000 Hz\n"
   ]
  },
  {
   "cell_type": "markdown",
   "metadata": {},
   "source": [
    "stop all sounds"
   ]
  },
  {
   "cell_type": "code",
   "execution_count": null,
   "metadata": {},
   "outputs": [],
   "source": [
    "cyberpi.audio.stop()"
   ]
  },
  {
   "cell_type": "markdown",
   "metadata": {},
   "source": [
    "## LED"
   ]
  },
  {
   "cell_type": "markdown",
   "metadata": {},
   "source": [
    "play LED animation <span style=\"color:red\">rainbow, spindrift, meteor(blue), meteor(green), helium flash(red), helium flash(orange), firefly</span> until done"
   ]
  },
  {
   "cell_type": "code",
   "execution_count": null,
   "metadata": {},
   "outputs": [],
   "source": [
    "cyberpi.led.play('rainbow')\n",
    "# rainbow spoondrift meteor_blue meteor_green flash_red flash_orange firefly"
   ]
  },
  {
   "cell_type": "markdown",
   "metadata": {},
   "source": [
    "display 5 costumered colors"
   ]
  },
  {
   "cell_type": "code",
   "execution_count": null,
   "metadata": {},
   "outputs": [],
   "source": [
    "cyberpi.led.show('red orange yellow green blue')\n",
    "# red orange yellow green cyan blue purple black white"
   ]
  },
  {
   "cell_type": "markdown",
   "metadata": {},
   "source": [
    "roll 1 LEDs rightwards"
   ]
  },
  {
   "cell_type": "code",
   "execution_count": null,
   "metadata": {},
   "outputs": [],
   "source": [
    "cyberpi.led.move(1)\n",
    "# -4 -3 -2 -1 0 1 2 3 4"
   ]
  },
  {
   "cell_type": "markdown",
   "metadata": {},
   "source": [
    "LED <span style='color:red'>all, position #</span> displays <span style='color:red'>color (RGB)</span> (for <span style='color:green'>1</span> second)"
   ]
  },
  {
   "cell_type": "code",
   "execution_count": null,
   "metadata": {},
   "outputs": [],
   "source": [
    "import time\n",
    "cyberpi.led.on(255, 0, 0, \"all\")\n",
    "cyberpi.led.on(255, 0, 0, 1) # 1 2 3 4 5\n",
    "time.sleep(1) # 1 second\n",
    "cyberpi.led.off(\"all\") # turn off all led\n",
    "cyberpi.led.off(1) # turn off led 1"
   ]
  },
  {
   "cell_type": "markdown",
   "metadata": {},
   "source": [
    "increase LED brightness by 10%\n",
    "set brightness to 30%"
   ]
  },
  {
   "cell_type": "code",
   "execution_count": null,
   "metadata": {},
   "outputs": [],
   "source": [
    "cyberpi.led.add_bri(10)\n",
    "# -100 ~ 100\n",
    "cyberpi.led.set_bri(30)\n",
    "# 0 ~ 100"
   ]
  },
  {
   "cell_type": "markdown",
   "metadata": {},
   "source": [
    "turn off all LEDs\n",
    "turn off LED 1, 2, 3, 4, 5"
   ]
  },
  {
   "cell_type": "code",
   "execution_count": null,
   "metadata": {},
   "outputs": [],
   "source": [
    "cyberpi.led.off(\"all\")\n",
    "cyberpi.led.off(1) # 1 2 3 4 5"
   ]
  },
  {
   "cell_type": "markdown",
   "metadata": {},
   "source": [
    "## Display"
   ]
  },
  {
   "cell_type": "markdown",
   "metadata": {},
   "source": [
    "set print size to <span style='color:red'>small, middle, big, super big</span>"
   ]
  },
  {
   "cell_type": "code",
   "execution_count": null,
   "metadata": {},
   "outputs": [],
   "source": [
    "cyberpi.console.set_font(12)\n",
    "# 12 16 24 32"
   ]
  },
  {
   "cell_type": "markdown",
   "metadata": {},
   "source": [
    "set brush color R <span style='color:green'>255</span> G <span style='color:green'>200</span> B <span style='color:green'>100</span>"
   ]
  },
  {
   "cell_type": "code",
   "execution_count": null,
   "metadata": {},
   "outputs": [],
   "source": [
    "cyberpi.display.set_brush(255, 200, 100)"
   ]
  },
  {
   "cell_type": "markdown",
   "metadata": {},
   "source": [
    "screen towards <span style='color:red'>upside-down(-90), left(0), default(90), right(180)</span>"
   ]
  },
  {
   "cell_type": "code",
   "execution_count": null,
   "metadata": {},
   "outputs": [],
   "source": [
    "cyberpi.display.rotate_to(-90)\n",
    "# -90 0 90 180"
   ]
  },
  {
   "cell_type": "markdown",
   "metadata": {},
   "source": [
    "clear screen"
   ]
  },
  {
   "cell_type": "code",
   "execution_count": null,
   "metadata": {},
   "outputs": [],
   "source": [
    "cyberpi.console.clear()"
   ]
  },
  {
   "cell_type": "markdown",
   "metadata": {},
   "source": [
    "print <span style=\"color:green\">string</span> and (move to a newline)"
   ]
  },
  {
   "cell_type": "code",
   "execution_count": null,
   "metadata": {},
   "outputs": [],
   "source": [
    "cyberpi.console.print(\"string\")\n",
    "cyberpi.console.println(\"string\")"
   ]
  },
  {
   "cell_type": "markdown",
   "metadata": {},
   "source": [
    "show label <span style='color:red'>1 .. 8</span> <span style='color:green'>string</span> at <span style='color:red'>center of screen, middle at top/bottom/left/right, upper left/right corner, bottom left/right corner</span> by <span style='color:red'>small, middle, big, super big</span> pixel"
   ]
  },
  {
   "cell_type": "code",
   "execution_count": null,
   "metadata": {},
   "outputs": [],
   "source": [
    "cyberpi.display.show_label(\"string\", 12, \"center\", index=0)\n",
    "# 12 16 24 32\n",
    "# center top_mid bottom_mid mid_left mid_right top_left top_right bottom_left bottom_right\n",
    "# 0 1 2 3 4 5 6 7"
   ]
  },
  {
   "cell_type": "markdown",
   "metadata": {},
   "source": [
    "show label <span style='color:red'>1 .. 8</span> <span style='color:green'>string</span> at x: <span style='color:green'>5</span> y <span style='color:green'>10</span> by <span style='color:red'>small, middle, big, super big</span> pixel"
   ]
  },
  {
   "cell_type": "code",
   "execution_count": null,
   "metadata": {},
   "outputs": [],
   "source": [
    "cyberpi.display.show_label(\"string\", 12, int(5), int(10), index=0)\n",
    "# 12 16 24 32\n",
    "#0 1 2 3 4 5 6 7"
   ]
  },
  {
   "cell_type": "markdown",
   "metadata": {},
   "source": [
    "line chart, set spacing to <span style='color:green'>0 .. 128</span> pixels, add data <span style='color:green'>0 .. 100</span>"
   ]
  },
  {
   "cell_type": "code",
   "execution_count": null,
   "metadata": {},
   "outputs": [],
   "source": [
    "cyberpi.linechart.set_step(5)\n",
    "# 0 ~ 128\n",
    "cyberpi.linechart.add(50)\n",
    "cyberpi.linechart.add(20)\n",
    "cyberpi.linechart.add(35)\n",
    "cyberpi.linechart.add(66)\n",
    "cyberpi.linechart.add(50)\n",
    "# 0 ~ 100"
   ]
  },
  {
   "cell_type": "markdown",
   "metadata": {},
   "source": [
    "barchart, add data <span style='color:green'>50 20 35</span>"
   ]
  },
  {
   "cell_type": "code",
   "execution_count": null,
   "metadata": {},
   "outputs": [],
   "source": [
    "cyberpi.display.set_brush(\"red\")\n",
    "cyberpi.barchart.add(50)\n",
    "cyberpi.display.set_brush(255, 255, 0)\n",
    "cyberpi.barchart.add(20)\n",
    "cyberpi.display.set_brush(0, 255, 255)\n",
    "cyberpi.barchart.add(35)"
   ]
  },
  {
   "cell_type": "markdown",
   "metadata": {},
   "source": [
    "table, input <span style='color:green'>element</span> at row <span style='color:green'>1 .. 4</span>, column <span style='color:green'>1 .. 3</span>"
   ]
  },
  {
   "cell_type": "code",
   "execution_count": null,
   "metadata": {},
   "outputs": [],
   "source": [
    "cyberpi.table.add(1, 2, \"element\")\n",
    "# 1 2 3 4\n",
    "# 1 2 3"
   ]
  },
  {
   "cell_type": "markdown",
   "metadata": {},
   "source": [
    "## Sensing"
   ]
  },
  {
   "cell_type": "markdown",
   "metadata": {},
   "source": [
    "## Motion Sensing"
   ]
  },
  {
   "cell_type": "markdown",
   "metadata": {},
   "source": [
    "### tilt"
   ]
  },
  {
   "cell_type": "markdown",
   "metadata": {},
   "source": [
    "print <span style='color:red'>tilted forward, tilted backward(pitch), tilted left, tilted right(roll), rotate clockwise, rotate counterclockwise(yaw)</span> <span style='color:cyan'>angle (degree)</span> at center"
   ]
  },
  {
   "cell_type": "code",
   "execution_count": null,
   "metadata": {},
   "outputs": [],
   "source": [
    "while True:\n",
    "    cyberpi.display.show_label(-cyberpi.get_pitch(), 12, \"center\", index=0)\n",
    "    time.sleep(0.5)\n",
    "# -cyberpi.get_pitch()\n",
    "# cyberpi.get_pitch()\n",
    "# -cyberpi.get_roll()\n",
    "# cyberpi.get_roll()\n",
    "# -cyberpi.get_yaw()\n",
    "# cyberpi.get_yaw()\n",
    "\n"
   ]
  },
  {
   "cell_type": "markdown",
   "metadata": {},
   "source": [
    "detect tilted direction\n",
    "print <span style='color:green'>tilted forward</span> when <span style='color:red'>tilted forward/backward/left/right, screen up/down</span>"
   ]
  },
  {
   "cell_type": "code",
   "execution_count": null,
   "metadata": {},
   "outputs": [],
   "source": [
    "while True:\n",
    "    if cyberpi.is_tiltforward():\n",
    "# cyberpi.is_tiltforward()\n",
    "# cyberpi.is_tiltback()\n",
    "# cyberpi.is_tiltleft()\n",
    "# cyberpi.is_tiltright()\n",
    "# cyberpi.is_faceup()\n",
    "# cyberpi.is_facedown()\n",
    "        cyberpi.console.print(\"tilted forward\")\n",
    "    else:\n",
    "        cyberpi.console.clear()\n",
    "    time.sleep(0.5)"
   ]
  },
  {
   "cell_type": "markdown",
   "metadata": {},
   "source": [
    "### move"
   ]
  },
  {
   "cell_type": "markdown",
   "metadata": {},
   "source": [
    "print <span style='color:cyan'>waving direction <span style='color:red'></span> ($\\degree$)</span>  \n",
    "print <span style='color:cyan'>waving speed</span>"
   ]
  },
  {
   "cell_type": "code",
   "execution_count": null,
   "metadata": {},
   "outputs": [],
   "source": [
    "while True:\n",
    "    cyberpi.console.println(cyberpi.get_wave_angle())\n",
    "    time.sleep(0.5)\n",
    "\n",
    "while True:\n",
    "    cyberpi.console.println(cyberpi.get_wave_speed())\n",
    "    time.sleep(0.5)"
   ]
  },
  {
   "cell_type": "markdown",
   "metadata": {},
   "source": [
    "print <span style='color:green'>direction</span> when <span style='color:red'> wave up/down/left/right, rotate clockwise/counterclockwise, freefall, </span>"
   ]
  },
  {
   "cell_type": "code",
   "execution_count": null,
   "metadata": {},
   "outputs": [],
   "source": [
    "while True:\n",
    "    if cyberpi.is_waveup():\n",
    "# cyberpi.is_waveup()\n",
    "# cyberpi.is_wavedown()\n",
    "# cyberpi.is_waveleft()\n",
    "# cyberpi.is_waveright()\n",
    "# cyberpi.is_clockwise()\n",
    "# cyberpi.is_anticlockwise()\n",
    "# cyberpi.is_freefall()\n",
    "# cyberpi.is_shake()\n",
    "        cyberpi.console.println(\"direction\")\n",
    "    else:\n",
    "        cyberpi.console.println(\" \")\n",
    "    time.sleep(0.5)"
   ]
  },
  {
   "cell_type": "markdown",
   "metadata": {},
   "source": [
    "print <span style='color:cyan'>shaking strength</span>"
   ]
  },
  {
   "cell_type": "code",
   "execution_count": null,
   "metadata": {},
   "outputs": [],
   "source": [
    "while True:\n",
    "    cyberpi.console.println(cyberpi.get_shakeval())\n",
    "    time.sleep(0.5)"
   ]
  },
  {
   "cell_type": "markdown",
   "metadata": {},
   "source": [
    "print <span style='color:cyan'>rotated angle around <span style='color:red'>x/y/z</span> axis ($\\degree$)</span>"
   ]
  },
  {
   "cell_type": "code",
   "execution_count": null,
   "metadata": {},
   "outputs": [],
   "source": [
    "while True:\n",
    "    cyberpi.console.println(cyberpi.get_rotation('x'))\n",
    "# x y z\n",
    "    time.sleep(0.5)\n"
   ]
  },
  {
   "cell_type": "markdown",
   "metadata": {},
   "source": [
    "print <span style='color:cyan'>angle speed around <span style='color:red'>x/y/z</span> axis ($\\degree$/s)</span>"
   ]
  },
  {
   "cell_type": "code",
   "execution_count": null,
   "metadata": {},
   "outputs": [],
   "source": [
    "while True:\n",
    "    cyberpi.console.println(cyberpi.get_gyro('x'))\n",
    "# x y z\n",
    "    time.sleep(0.5)"
   ]
  },
  {
   "cell_type": "markdown",
   "metadata": {},
   "source": [
    "print <span style='color:cyan'>motion sensor <span style='color:red'>x/y/z</span> acceleration ($m/s^2$)</span>"
   ]
  },
  {
   "cell_type": "code",
   "execution_count": null,
   "metadata": {},
   "outputs": [],
   "source": [
    "while True:\n",
    "    cyberpi.console.println(cyberpi.get_acc('x'))\n",
    "# x y z\n",
    "    time.sleep(0.5)"
   ]
  },
  {
   "cell_type": "markdown",
   "metadata": {},
   "source": [
    "### functions"
   ]
  },
  {
   "cell_type": "markdown",
   "metadata": {},
   "source": [
    "reset rotated angle around <span style='color:red'>all/x/y/z</span> axis  \n",
    "reset yaw angle"
   ]
  },
  {
   "cell_type": "code",
   "execution_count": null,
   "metadata": {},
   "outputs": [],
   "source": [
    "cyberpi.reset_rotation('all')\n",
    "# all x y z\n",
    "\n",
    "cyberpi.reset_yaw()"
   ]
  },
  {
   "cell_type": "markdown",
   "metadata": {},
   "source": [
    "## LAN"
   ]
  },
  {
   "cell_type": "markdown",
   "metadata": {},
   "source": [
    "## AI"
   ]
  },
  {
   "cell_type": "markdown",
   "metadata": {},
   "source": [
    "## IoT"
   ]
  },
  {
   "cell_type": "markdown",
   "metadata": {},
   "source": [
    "# mbot2 Library"
   ]
  },
  {
   "cell_type": "markdown",
   "metadata": {},
   "source": [
    "## mBot2 Chassis"
   ]
  },
  {
   "cell_type": "markdown",
   "metadata": {},
   "source": [
    "## mBot2 Extension Port"
   ]
  },
  {
   "cell_type": "markdown",
   "metadata": {},
   "source": [
    "# mbuild Library"
   ]
  },
  {
   "cell_type": "markdown",
   "metadata": {},
   "source": [
    "## quad RGB senser"
   ]
  },
  {
   "cell_type": "markdown",
   "metadata": {},
   "source": [
    "## ultrasonic2 Library"
   ]
  },
  {
   "cell_type": "markdown",
   "metadata": {},
   "source": [
    "# event Library"
   ]
  },
  {
   "cell_type": "code",
   "execution_count": null,
   "metadata": {},
   "outputs": [],
   "source": [
    "import event"
   ]
  },
  {
   "cell_type": "markdown",
   "metadata": {},
   "source": [
    "## Events blocks"
   ]
  },
  {
   "cell_type": "markdown",
   "metadata": {},
   "source": [
    "when CyberPi <span style=\"color:red\">starts up</span>"
   ]
  },
  {
   "cell_type": "code",
   "execution_count": null,
   "metadata": {},
   "outputs": [],
   "source": [
    "@event.start\n",
    "def start():\n",
    "    \"\"\"\n",
    "    This function is called when the Cyberpi starts.\n",
    "    \"\"\"\n",
    "    pass"
   ]
  },
  {
   "cell_type": "markdown",
   "metadata": {},
   "source": [
    "when joystick <span style=\"color:red\">pulled up, down, left, right, or middle pressed</span>"
   ]
  },
  {
   "cell_type": "code",
   "execution_count": null,
   "metadata": {},
   "outputs": [],
   "source": [
    "@event.is_press('up') # up down left right middle\n",
    "def is_joy_press():\n",
    "  \"\"\"\n",
    "  This function is called when the joystick is pulled up\n",
    "  \"\"\"\n",
    "  pass"
   ]
  },
  {
   "cell_type": "markdown",
   "metadata": {},
   "source": [
    "when button A / B pressed"
   ]
  },
  {
   "cell_type": "code",
   "execution_count": null,
   "metadata": {},
   "outputs": [],
   "source": [
    "@event.is_press('a') # a b\n",
    "def is_btn_press():\n",
    "  \"\"\"\n",
    "  This function is called when the button a / b is pressed\n",
    "  \"\"\"\n",
    "  pass"
   ]
  },
  {
   "cell_type": "markdown",
   "metadata": {},
   "source": [
    "when CyberPi <span style=\"color:red\">tilted left, right, forward, backward, screen faces up, down</span>"
   ]
  },
  {
   "cell_type": "code",
   "execution_count": null,
   "metadata": {},
   "outputs": [],
   "source": [
    "@event.is_tiltleft\n",
    "def on_is_tiltleft():\n",
    "  \"\"\"\n",
    "  This function is called when the CyberPi is tilt to the left\n",
    "  \"\"\"\n",
    "  pass\n",
    "\n",
    "@event.is_tiltright\n",
    "def on_is_tiltright():\n",
    "  \"\"\"\n",
    "  This function is called when the CyberPi is tilt to the right\n",
    "  \"\"\"\n",
    "  pass\n",
    "\n",
    "@event.is_tiltforward\n",
    "def on_is_tiltforward():\n",
    "  \"\"\"\n",
    "  This function is called when the CyberPi is tilt forward\n",
    "  \"\"\"\n",
    "  pass\n",
    "\n",
    "@event.is_tiltbackward\n",
    "def on_is_tiltbackward():\n",
    "  \"\"\"\n",
    "  This function is called when the CyberPi is tilt backward\n",
    "  \"\"\"\n",
    "  pass\n",
    "\n",
    "@event.is_faceup\n",
    "def on_is_faceup():\n",
    "  \"\"\"\n",
    "  This function is called when the CyberPi is face up\n",
    "  \"\"\"\n",
    "  pass\n",
    "\n",
    "@event.is_facedown\n",
    "def on_is_facedown():\n",
    "  \"\"\"\n",
    "  This function is called when the CyberPi is face down\n",
    "  \"\"\"\n",
    "  pass"
   ]
  },
  {
   "cell_type": "markdown",
   "metadata": {},
   "source": [
    "when <span style=\"color:red\">wave left, right, up, down, rotate clockwise, counterclockwise, freefall, shaken</span> detected"
   ]
  },
  {
   "cell_type": "code",
   "execution_count": null,
   "metadata": {},
   "outputs": [],
   "source": [
    "@event.is_waveleft\n",
    "def on_is_waveleft():\n",
    "  \"\"\"\n",
    "  This function is called when the CyberPi is waved to the left.\n",
    "  \"\"\"\n",
    "  pass\n",
    "\n",
    "@event.is_waveright\n",
    "def on_is_waveright():\n",
    "  \"\"\"\n",
    "  This function is called when the CyberPi is waved to the right.\n",
    "  \"\"\"\n",
    "  pass\n",
    "\n",
    "@event.is_waveup\n",
    "def on_is_waveup():\n",
    "  \"\"\"\n",
    "  This function is called when the CyberPi is waved upwards.\n",
    "  \"\"\"\n",
    "  pass\n",
    "\n",
    "@event.is_wavedown\n",
    "def on_is_wavedown():\n",
    "  \"\"\"\n",
    "  This function is called when the CyberPi is waved downwards.\n",
    "  \"\"\"\n",
    "  pass\n",
    "\n",
    "@event.is_clockwise\n",
    "def on_is_clockwise():\n",
    "  \"\"\"\n",
    "  This function is called when the CyberPi is rotated in a clockwise direction.\n",
    "  \"\"\"\n",
    "  pass\n",
    "\n",
    "@event.is_anticlockwise\n",
    "def on_is_anticlockwise():\n",
    "  \"\"\"\n",
    "  This function is called when the CyberPi is rotated in an counterclockwise direction.\n",
    "  \"\"\"\n",
    "  pass\n",
    "\n",
    "@event.is_freefall\n",
    "def on_is_freefall():\n",
    "  \"\"\"\n",
    "  This function is called when the CyberPi is in freefall.\n",
    "  \"\"\"\n",
    "  pass\n",
    "\n",
    "@event.is_shake\n",
    "def on_is_shake():\n",
    "  \"\"\"\n",
    "  This function is called when the CyberPi is shaken.\n",
    "  \"\"\"\n",
    "  pass\n"
   ]
  },
  {
   "cell_type": "markdown",
   "metadata": {},
   "source": [
    "when <span style=\"color:red\">light, sound, shaking strength , timer</span> value <span style=\"color:red\">>, <</span> <span style=\"color:green\">val</span>"
   ]
  },
  {
   "cell_type": "code",
   "execution_count": null,
   "metadata": {},
   "outputs": [],
   "source": [
    "@event.greater_than(50, \"light_sensor\") # light_sensor microphone shake_val timer\n",
    "def on_greater_than():\n",
    "  \"\"\"\n",
    "  This function is called when the value of the sensor is greater than the @event value.\n",
    "  \"\"\"\n",
    "  pass\n",
    "\n",
    "@event.smaller_than(50, \"light_sensor\") # light_sensor microphone shake_val timer\n",
    "def on_less_than():\n",
    "  \"\"\"\n",
    "  This function is called when the value of the sensor is less than the @event value.\n",
    "  \"\"\"\n",
    "  pass\n"
   ]
  },
  {
   "cell_type": "markdown",
   "metadata": {},
   "source": [
    "when I receive <span style=\"color:red\">message</span>"
   ]
  },
  {
   "cell_type": "code",
   "execution_count": null,
   "metadata": {},
   "outputs": [],
   "source": [
    "@event.receive(\"message\")\n",
    "def on_receive():\n",
    "  \"\"\"\n",
    "  This function is called whenever a message is received from local network.\n",
    "  \"\"\"\n",
    "  pass"
   ]
  },
  {
   "cell_type": "markdown",
   "metadata": {},
   "source": [
    "# Other libs"
   ]
  },
  {
   "cell_type": "markdown",
   "metadata": {},
   "source": [
    "wait 3 seconds"
   ]
  },
  {
   "cell_type": "code",
   "execution_count": null,
   "metadata": {},
   "outputs": [],
   "source": [
    "import time\n",
    "\n",
    "time.sleep(3)"
   ]
  },
  {
   "cell_type": "markdown",
   "metadata": {},
   "source": [
    "repeat 10 times, forever"
   ]
  },
  {
   "cell_type": "code",
   "execution_count": null,
   "metadata": {},
   "outputs": [],
   "source": [
    "for count in range(10):\n",
    "  # do something\n",
    "  pass\n",
    "\n",
    "while True:\n",
    "  # do something\n",
    "  break\n"
   ]
  },
  {
   "cell_type": "markdown",
   "metadata": {},
   "source": [
    "wait / repeat until <span style=\"color:red\">condition</span>"
   ]
  },
  {
   "cell_type": "code",
   "execution_count": null,
   "metadata": {},
   "outputs": [],
   "source": [
    "condition = True # set condition\n",
    "while not (condition):\n",
    "  # repeat something\n",
    "  pass\n",
    "\n",
    "# do somethine"
   ]
  }
 ],
 "metadata": {
  "kernelspec": {
   "display_name": "mBot2",
   "language": "python",
   "name": "python3"
  },
  "language_info": {
   "codemirror_mode": {
    "name": "ipython",
    "version": 3
   },
   "file_extension": ".py",
   "mimetype": "text/x-python",
   "name": "python",
   "nbconvert_exporter": "python",
   "pygments_lexer": "ipython3",
   "version": "3.6.5"
  }
 },
 "nbformat": 4,
 "nbformat_minor": 2
}
